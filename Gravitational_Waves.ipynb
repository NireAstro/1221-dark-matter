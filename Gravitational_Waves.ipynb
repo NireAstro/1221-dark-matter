{
  "nbformat": 4,
  "nbformat_minor": 0,
  "metadata": {
    "colab": {
      "provenance": [],
      "authorship_tag": "ABX9TyM8PEgs6TYeHekp9Pz/ufa5",
      "include_colab_link": true
    },
    "kernelspec": {
      "name": "python3",
      "display_name": "Python 3"
    },
    "language_info": {
      "name": "python"
    }
  },
  "cells": [
    {
      "cell_type": "markdown",
      "metadata": {
        "id": "view-in-github",
        "colab_type": "text"
      },
      "source": [
        "<a href=\"https://colab.research.google.com/github/NireAstro/1221-dark-matter/blob/main/Gravitational_Waves.ipynb\" target=\"_parent\"><img src=\"https://colab.research.google.com/assets/colab-badge.svg\" alt=\"Open In Colab\"/></a>"
      ]
    },
    {
      "cell_type": "code",
      "execution_count": 2,
      "metadata": {
        "id": "catY_O8TjTW6"
      },
      "outputs": [],
      "source": [
        "import numpy as np\n",
        "import matplotlib.pyplot as plt\n",
        "import astropy.units as u\n",
        "import astropy.constants as ac"
      ]
    },
    {
      "cell_type": "markdown",
      "source": [
        "$R_{bh} = \\sqrt\\frac{GM_⊙}{c^2}$"
      ],
      "metadata": {
        "id": "yAuBtOKjj250"
      }
    },
    {
      "cell_type": "code",
      "source": [
        "M_bh = 1 * u.solMass\n",
        "R_bh = 2 * ac.G * M_bh / ac.c**2\n",
        "print(\"The radius of a solar-mass black hole is \", R_bh.to(u.km))"
      ],
      "metadata": {
        "colab": {
          "base_uri": "https://localhost:8080/"
        },
        "id": "byrxO_B6kTt1",
        "outputId": "f247ab20-8880-4aa3-c0e2-116b173513ca"
      },
      "execution_count": 3,
      "outputs": [
        {
          "output_type": "stream",
          "name": "stdout",
          "text": [
            "The radius of a solar-mass black hole is  2.95325007610025 km\n"
          ]
        }
      ]
    },
    {
      "cell_type": "markdown",
      "source": [
        "$M_{Total} = \\frac{δtc^3}{16πG}$"
      ],
      "metadata": {
        "id": "3p7VSeSQmaLL"
      }
    },
    {
      "cell_type": "code",
      "source": [
        "delta_t = 0.01 * u.second\n",
        "M_bh_total = delta_t * ac.c**3 / (16 * np.pi * ac.G)\n",
        "print(\"Total mass of the merging black holes is\", M_bh_total.to(u.solMass))"
      ],
      "metadata": {
        "colab": {
          "base_uri": "https://localhost:8080/"
        },
        "id": "L6rrK6mtmwKY",
        "outputId": "6dcd078b-63ca-455e-aefc-ae0ef2dfe1a4"
      },
      "execution_count": 4,
      "outputs": [
        {
          "output_type": "stream",
          "name": "stdout",
          "text": [
            "Total mass of the merging black holes is 40.390629275268466 solMass\n"
          ]
        }
      ]
    },
    {
      "cell_type": "code",
      "source": [
        "h = 1e-21\n",
        "delta_Earth = 1 * u.earthRad * h\n",
        "print(\"Deformation of Earth is\", delta_Earth.to(u.nm))"
      ],
      "metadata": {
        "colab": {
          "base_uri": "https://localhost:8080/"
        },
        "id": "RlXwmlrDn-D5",
        "outputId": "2199fa1d-8083-4fae-ae3b-edcc10655d55"
      },
      "execution_count": 6,
      "outputs": [
        {
          "output_type": "stream",
          "name": "stdout",
          "text": [
            "Deformation of Earth is 6.378099999999999e-06 nm\n"
          ]
        }
      ]
    },
    {
      "cell_type": "markdown",
      "source": [
        "h = R_bh / distance, so distance = R_bh / h"
      ],
      "metadata": {
        "id": "OPOBESRvpJcB"
      }
    },
    {
      "cell_type": "code",
      "source": [
        "R_bh = 2 * ac.G * 30 * u.solMass / (ac.c**2)\n",
        "D = R_bh / h\n",
        "print(\"Distance of the black hole merger is\", D.to(1e6 * u.parsec))"
      ],
      "metadata": {
        "colab": {
          "base_uri": "https://localhost:8080/"
        },
        "id": "nXJPHK0FoN4D",
        "outputId": "0f47a12a-81ff-4a7d-9ee3-2981c8764269"
      },
      "execution_count": 7,
      "outputs": [
        {
          "output_type": "stream",
          "name": "stdout",
          "text": [
            "Distance of the black hole merger is 2871.249504952705 1e+06 pc\n"
          ]
        }
      ]
    },
    {
      "cell_type": "code",
      "source": [],
      "metadata": {
        "id": "sVHAMUcJpsgY"
      },
      "execution_count": null,
      "outputs": []
    }
  ]
}